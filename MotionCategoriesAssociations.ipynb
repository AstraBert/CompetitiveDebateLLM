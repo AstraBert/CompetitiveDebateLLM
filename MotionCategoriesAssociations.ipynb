{
  "nbformat": 4,
  "nbformat_minor": 0,
  "metadata": {
    "colab": {
      "provenance": [],
      "authorship_tag": "ABX9TyNUS1iiG+qOPFdg2iuaHH+G",
      "include_colab_link": true
    },
    "kernelspec": {
      "name": "python3",
      "display_name": "Python 3"
    },
    "language_info": {
      "name": "python"
    },
    "widgets": {
      "application/vnd.jupyter.widget-state+json": {
        "2ba6380b1b344e7daef958c92ddaf60a": {
          "model_module": "@jupyter-widgets/controls",
          "model_name": "HBoxModel",
          "model_module_version": "1.5.0",
          "state": {
            "_dom_classes": [],
            "_model_module": "@jupyter-widgets/controls",
            "_model_module_version": "1.5.0",
            "_model_name": "HBoxModel",
            "_view_count": null,
            "_view_module": "@jupyter-widgets/controls",
            "_view_module_version": "1.5.0",
            "_view_name": "HBoxView",
            "box_style": "",
            "children": [
              "IPY_MODEL_a2a2caa2711045f181be16e13c6ff81c",
              "IPY_MODEL_7130f8b537794524ae90b3350f0fd3a2",
              "IPY_MODEL_572fc67c29bf44fb98aec75d466923df"
            ],
            "layout": "IPY_MODEL_2504d9295aac48868b8712129dd1ae23"
          }
        },
        "a2a2caa2711045f181be16e13c6ff81c": {
          "model_module": "@jupyter-widgets/controls",
          "model_name": "HTMLModel",
          "model_module_version": "1.5.0",
          "state": {
            "_dom_classes": [],
            "_model_module": "@jupyter-widgets/controls",
            "_model_module_version": "1.5.0",
            "_model_name": "HTMLModel",
            "_view_count": null,
            "_view_module": "@jupyter-widgets/controls",
            "_view_module_version": "1.5.0",
            "_view_name": "HTMLView",
            "description": "",
            "description_tooltip": null,
            "layout": "IPY_MODEL_5669270e10444f1d8ad75007bcd85609",
            "placeholder": "​",
            "style": "IPY_MODEL_3795100eca7c4c0395066b9bfff58a4d",
            "value": "DebateLLMs_v010.csv: 100%"
          }
        },
        "7130f8b537794524ae90b3350f0fd3a2": {
          "model_module": "@jupyter-widgets/controls",
          "model_name": "FloatProgressModel",
          "model_module_version": "1.5.0",
          "state": {
            "_dom_classes": [],
            "_model_module": "@jupyter-widgets/controls",
            "_model_module_version": "1.5.0",
            "_model_name": "FloatProgressModel",
            "_view_count": null,
            "_view_module": "@jupyter-widgets/controls",
            "_view_module_version": "1.5.0",
            "_view_name": "ProgressView",
            "bar_style": "success",
            "description": "",
            "description_tooltip": null,
            "layout": "IPY_MODEL_4a0348aaa14748d4952f982909a96c44",
            "max": 68481,
            "min": 0,
            "orientation": "horizontal",
            "style": "IPY_MODEL_768bb8a2925940299b36c72eb7752bfb",
            "value": 68481
          }
        },
        "572fc67c29bf44fb98aec75d466923df": {
          "model_module": "@jupyter-widgets/controls",
          "model_name": "HTMLModel",
          "model_module_version": "1.5.0",
          "state": {
            "_dom_classes": [],
            "_model_module": "@jupyter-widgets/controls",
            "_model_module_version": "1.5.0",
            "_model_name": "HTMLModel",
            "_view_count": null,
            "_view_module": "@jupyter-widgets/controls",
            "_view_module_version": "1.5.0",
            "_view_name": "HTMLView",
            "description": "",
            "description_tooltip": null,
            "layout": "IPY_MODEL_494e4faef2d149c8b482d7af333ef5e7",
            "placeholder": "​",
            "style": "IPY_MODEL_d6ca5e7b7d50478eacb1c5e2675f3597",
            "value": " 68.5k/68.5k [00:00&lt;00:00, 701kB/s]"
          }
        },
        "2504d9295aac48868b8712129dd1ae23": {
          "model_module": "@jupyter-widgets/base",
          "model_name": "LayoutModel",
          "model_module_version": "1.2.0",
          "state": {
            "_model_module": "@jupyter-widgets/base",
            "_model_module_version": "1.2.0",
            "_model_name": "LayoutModel",
            "_view_count": null,
            "_view_module": "@jupyter-widgets/base",
            "_view_module_version": "1.2.0",
            "_view_name": "LayoutView",
            "align_content": null,
            "align_items": null,
            "align_self": null,
            "border": null,
            "bottom": null,
            "display": null,
            "flex": null,
            "flex_flow": null,
            "grid_area": null,
            "grid_auto_columns": null,
            "grid_auto_flow": null,
            "grid_auto_rows": null,
            "grid_column": null,
            "grid_gap": null,
            "grid_row": null,
            "grid_template_areas": null,
            "grid_template_columns": null,
            "grid_template_rows": null,
            "height": null,
            "justify_content": null,
            "justify_items": null,
            "left": null,
            "margin": null,
            "max_height": null,
            "max_width": null,
            "min_height": null,
            "min_width": null,
            "object_fit": null,
            "object_position": null,
            "order": null,
            "overflow": null,
            "overflow_x": null,
            "overflow_y": null,
            "padding": null,
            "right": null,
            "top": null,
            "visibility": null,
            "width": null
          }
        },
        "5669270e10444f1d8ad75007bcd85609": {
          "model_module": "@jupyter-widgets/base",
          "model_name": "LayoutModel",
          "model_module_version": "1.2.0",
          "state": {
            "_model_module": "@jupyter-widgets/base",
            "_model_module_version": "1.2.0",
            "_model_name": "LayoutModel",
            "_view_count": null,
            "_view_module": "@jupyter-widgets/base",
            "_view_module_version": "1.2.0",
            "_view_name": "LayoutView",
            "align_content": null,
            "align_items": null,
            "align_self": null,
            "border": null,
            "bottom": null,
            "display": null,
            "flex": null,
            "flex_flow": null,
            "grid_area": null,
            "grid_auto_columns": null,
            "grid_auto_flow": null,
            "grid_auto_rows": null,
            "grid_column": null,
            "grid_gap": null,
            "grid_row": null,
            "grid_template_areas": null,
            "grid_template_columns": null,
            "grid_template_rows": null,
            "height": null,
            "justify_content": null,
            "justify_items": null,
            "left": null,
            "margin": null,
            "max_height": null,
            "max_width": null,
            "min_height": null,
            "min_width": null,
            "object_fit": null,
            "object_position": null,
            "order": null,
            "overflow": null,
            "overflow_x": null,
            "overflow_y": null,
            "padding": null,
            "right": null,
            "top": null,
            "visibility": null,
            "width": null
          }
        },
        "3795100eca7c4c0395066b9bfff58a4d": {
          "model_module": "@jupyter-widgets/controls",
          "model_name": "DescriptionStyleModel",
          "model_module_version": "1.5.0",
          "state": {
            "_model_module": "@jupyter-widgets/controls",
            "_model_module_version": "1.5.0",
            "_model_name": "DescriptionStyleModel",
            "_view_count": null,
            "_view_module": "@jupyter-widgets/base",
            "_view_module_version": "1.2.0",
            "_view_name": "StyleView",
            "description_width": ""
          }
        },
        "4a0348aaa14748d4952f982909a96c44": {
          "model_module": "@jupyter-widgets/base",
          "model_name": "LayoutModel",
          "model_module_version": "1.2.0",
          "state": {
            "_model_module": "@jupyter-widgets/base",
            "_model_module_version": "1.2.0",
            "_model_name": "LayoutModel",
            "_view_count": null,
            "_view_module": "@jupyter-widgets/base",
            "_view_module_version": "1.2.0",
            "_view_name": "LayoutView",
            "align_content": null,
            "align_items": null,
            "align_self": null,
            "border": null,
            "bottom": null,
            "display": null,
            "flex": null,
            "flex_flow": null,
            "grid_area": null,
            "grid_auto_columns": null,
            "grid_auto_flow": null,
            "grid_auto_rows": null,
            "grid_column": null,
            "grid_gap": null,
            "grid_row": null,
            "grid_template_areas": null,
            "grid_template_columns": null,
            "grid_template_rows": null,
            "height": null,
            "justify_content": null,
            "justify_items": null,
            "left": null,
            "margin": null,
            "max_height": null,
            "max_width": null,
            "min_height": null,
            "min_width": null,
            "object_fit": null,
            "object_position": null,
            "order": null,
            "overflow": null,
            "overflow_x": null,
            "overflow_y": null,
            "padding": null,
            "right": null,
            "top": null,
            "visibility": null,
            "width": null
          }
        },
        "768bb8a2925940299b36c72eb7752bfb": {
          "model_module": "@jupyter-widgets/controls",
          "model_name": "ProgressStyleModel",
          "model_module_version": "1.5.0",
          "state": {
            "_model_module": "@jupyter-widgets/controls",
            "_model_module_version": "1.5.0",
            "_model_name": "ProgressStyleModel",
            "_view_count": null,
            "_view_module": "@jupyter-widgets/base",
            "_view_module_version": "1.2.0",
            "_view_name": "StyleView",
            "bar_color": null,
            "description_width": ""
          }
        },
        "494e4faef2d149c8b482d7af333ef5e7": {
          "model_module": "@jupyter-widgets/base",
          "model_name": "LayoutModel",
          "model_module_version": "1.2.0",
          "state": {
            "_model_module": "@jupyter-widgets/base",
            "_model_module_version": "1.2.0",
            "_model_name": "LayoutModel",
            "_view_count": null,
            "_view_module": "@jupyter-widgets/base",
            "_view_module_version": "1.2.0",
            "_view_name": "LayoutView",
            "align_content": null,
            "align_items": null,
            "align_self": null,
            "border": null,
            "bottom": null,
            "display": null,
            "flex": null,
            "flex_flow": null,
            "grid_area": null,
            "grid_auto_columns": null,
            "grid_auto_flow": null,
            "grid_auto_rows": null,
            "grid_column": null,
            "grid_gap": null,
            "grid_row": null,
            "grid_template_areas": null,
            "grid_template_columns": null,
            "grid_template_rows": null,
            "height": null,
            "justify_content": null,
            "justify_items": null,
            "left": null,
            "margin": null,
            "max_height": null,
            "max_width": null,
            "min_height": null,
            "min_width": null,
            "object_fit": null,
            "object_position": null,
            "order": null,
            "overflow": null,
            "overflow_x": null,
            "overflow_y": null,
            "padding": null,
            "right": null,
            "top": null,
            "visibility": null,
            "width": null
          }
        },
        "d6ca5e7b7d50478eacb1c5e2675f3597": {
          "model_module": "@jupyter-widgets/controls",
          "model_name": "DescriptionStyleModel",
          "model_module_version": "1.5.0",
          "state": {
            "_model_module": "@jupyter-widgets/controls",
            "_model_module_version": "1.5.0",
            "_model_name": "DescriptionStyleModel",
            "_view_count": null,
            "_view_module": "@jupyter-widgets/base",
            "_view_module_version": "1.2.0",
            "_view_name": "StyleView",
            "description_width": ""
          }
        },
        "720e7589cd394d8cbc7997e4ec370a2c": {
          "model_module": "@jupyter-widgets/controls",
          "model_name": "HBoxModel",
          "model_module_version": "1.5.0",
          "state": {
            "_dom_classes": [],
            "_model_module": "@jupyter-widgets/controls",
            "_model_module_version": "1.5.0",
            "_model_name": "HBoxModel",
            "_view_count": null,
            "_view_module": "@jupyter-widgets/controls",
            "_view_module_version": "1.5.0",
            "_view_name": "HBoxView",
            "box_style": "",
            "children": [
              "IPY_MODEL_0fb02751f73145658de5be88ccc278cc",
              "IPY_MODEL_e603d659326d4e808aa05a7249c1c4d8",
              "IPY_MODEL_b97badec67024f30b6fde72902ef0f30"
            ],
            "layout": "IPY_MODEL_e484d70fda3d4dafa64d9cbcf8412d3c"
          }
        },
        "0fb02751f73145658de5be88ccc278cc": {
          "model_module": "@jupyter-widgets/controls",
          "model_name": "HTMLModel",
          "model_module_version": "1.5.0",
          "state": {
            "_dom_classes": [],
            "_model_module": "@jupyter-widgets/controls",
            "_model_module_version": "1.5.0",
            "_model_name": "HTMLModel",
            "_view_count": null,
            "_view_module": "@jupyter-widgets/controls",
            "_view_module_version": "1.5.0",
            "_view_name": "HTMLView",
            "description": "",
            "description_tooltip": null,
            "layout": "IPY_MODEL_af60a55ef28d4dba8f663d6a85c71f65",
            "placeholder": "​",
            "style": "IPY_MODEL_5f981b811c2543c39a9efcd92aeac3ec",
            "value": "Generating train split: 100%"
          }
        },
        "e603d659326d4e808aa05a7249c1c4d8": {
          "model_module": "@jupyter-widgets/controls",
          "model_name": "FloatProgressModel",
          "model_module_version": "1.5.0",
          "state": {
            "_dom_classes": [],
            "_model_module": "@jupyter-widgets/controls",
            "_model_module_version": "1.5.0",
            "_model_name": "FloatProgressModel",
            "_view_count": null,
            "_view_module": "@jupyter-widgets/controls",
            "_view_module_version": "1.5.0",
            "_view_name": "ProgressView",
            "bar_style": "success",
            "description": "",
            "description_tooltip": null,
            "layout": "IPY_MODEL_d86dd77ad77940bfba1f2d884a3afce9",
            "max": 20,
            "min": 0,
            "orientation": "horizontal",
            "style": "IPY_MODEL_5e8cbb751d6247608a151baea67524a8",
            "value": 20
          }
        },
        "b97badec67024f30b6fde72902ef0f30": {
          "model_module": "@jupyter-widgets/controls",
          "model_name": "HTMLModel",
          "model_module_version": "1.5.0",
          "state": {
            "_dom_classes": [],
            "_model_module": "@jupyter-widgets/controls",
            "_model_module_version": "1.5.0",
            "_model_name": "HTMLModel",
            "_view_count": null,
            "_view_module": "@jupyter-widgets/controls",
            "_view_module_version": "1.5.0",
            "_view_name": "HTMLView",
            "description": "",
            "description_tooltip": null,
            "layout": "IPY_MODEL_e9470dc081494f65a4687c7221082014",
            "placeholder": "​",
            "style": "IPY_MODEL_09ebaac9a57f4348b350ddfec11b8b9c",
            "value": " 20/20 [00:00&lt;00:00, 158.33 examples/s]"
          }
        },
        "e484d70fda3d4dafa64d9cbcf8412d3c": {
          "model_module": "@jupyter-widgets/base",
          "model_name": "LayoutModel",
          "model_module_version": "1.2.0",
          "state": {
            "_model_module": "@jupyter-widgets/base",
            "_model_module_version": "1.2.0",
            "_model_name": "LayoutModel",
            "_view_count": null,
            "_view_module": "@jupyter-widgets/base",
            "_view_module_version": "1.2.0",
            "_view_name": "LayoutView",
            "align_content": null,
            "align_items": null,
            "align_self": null,
            "border": null,
            "bottom": null,
            "display": null,
            "flex": null,
            "flex_flow": null,
            "grid_area": null,
            "grid_auto_columns": null,
            "grid_auto_flow": null,
            "grid_auto_rows": null,
            "grid_column": null,
            "grid_gap": null,
            "grid_row": null,
            "grid_template_areas": null,
            "grid_template_columns": null,
            "grid_template_rows": null,
            "height": null,
            "justify_content": null,
            "justify_items": null,
            "left": null,
            "margin": null,
            "max_height": null,
            "max_width": null,
            "min_height": null,
            "min_width": null,
            "object_fit": null,
            "object_position": null,
            "order": null,
            "overflow": null,
            "overflow_x": null,
            "overflow_y": null,
            "padding": null,
            "right": null,
            "top": null,
            "visibility": null,
            "width": null
          }
        },
        "af60a55ef28d4dba8f663d6a85c71f65": {
          "model_module": "@jupyter-widgets/base",
          "model_name": "LayoutModel",
          "model_module_version": "1.2.0",
          "state": {
            "_model_module": "@jupyter-widgets/base",
            "_model_module_version": "1.2.0",
            "_model_name": "LayoutModel",
            "_view_count": null,
            "_view_module": "@jupyter-widgets/base",
            "_view_module_version": "1.2.0",
            "_view_name": "LayoutView",
            "align_content": null,
            "align_items": null,
            "align_self": null,
            "border": null,
            "bottom": null,
            "display": null,
            "flex": null,
            "flex_flow": null,
            "grid_area": null,
            "grid_auto_columns": null,
            "grid_auto_flow": null,
            "grid_auto_rows": null,
            "grid_column": null,
            "grid_gap": null,
            "grid_row": null,
            "grid_template_areas": null,
            "grid_template_columns": null,
            "grid_template_rows": null,
            "height": null,
            "justify_content": null,
            "justify_items": null,
            "left": null,
            "margin": null,
            "max_height": null,
            "max_width": null,
            "min_height": null,
            "min_width": null,
            "object_fit": null,
            "object_position": null,
            "order": null,
            "overflow": null,
            "overflow_x": null,
            "overflow_y": null,
            "padding": null,
            "right": null,
            "top": null,
            "visibility": null,
            "width": null
          }
        },
        "5f981b811c2543c39a9efcd92aeac3ec": {
          "model_module": "@jupyter-widgets/controls",
          "model_name": "DescriptionStyleModel",
          "model_module_version": "1.5.0",
          "state": {
            "_model_module": "@jupyter-widgets/controls",
            "_model_module_version": "1.5.0",
            "_model_name": "DescriptionStyleModel",
            "_view_count": null,
            "_view_module": "@jupyter-widgets/base",
            "_view_module_version": "1.2.0",
            "_view_name": "StyleView",
            "description_width": ""
          }
        },
        "d86dd77ad77940bfba1f2d884a3afce9": {
          "model_module": "@jupyter-widgets/base",
          "model_name": "LayoutModel",
          "model_module_version": "1.2.0",
          "state": {
            "_model_module": "@jupyter-widgets/base",
            "_model_module_version": "1.2.0",
            "_model_name": "LayoutModel",
            "_view_count": null,
            "_view_module": "@jupyter-widgets/base",
            "_view_module_version": "1.2.0",
            "_view_name": "LayoutView",
            "align_content": null,
            "align_items": null,
            "align_self": null,
            "border": null,
            "bottom": null,
            "display": null,
            "flex": null,
            "flex_flow": null,
            "grid_area": null,
            "grid_auto_columns": null,
            "grid_auto_flow": null,
            "grid_auto_rows": null,
            "grid_column": null,
            "grid_gap": null,
            "grid_row": null,
            "grid_template_areas": null,
            "grid_template_columns": null,
            "grid_template_rows": null,
            "height": null,
            "justify_content": null,
            "justify_items": null,
            "left": null,
            "margin": null,
            "max_height": null,
            "max_width": null,
            "min_height": null,
            "min_width": null,
            "object_fit": null,
            "object_position": null,
            "order": null,
            "overflow": null,
            "overflow_x": null,
            "overflow_y": null,
            "padding": null,
            "right": null,
            "top": null,
            "visibility": null,
            "width": null
          }
        },
        "5e8cbb751d6247608a151baea67524a8": {
          "model_module": "@jupyter-widgets/controls",
          "model_name": "ProgressStyleModel",
          "model_module_version": "1.5.0",
          "state": {
            "_model_module": "@jupyter-widgets/controls",
            "_model_module_version": "1.5.0",
            "_model_name": "ProgressStyleModel",
            "_view_count": null,
            "_view_module": "@jupyter-widgets/base",
            "_view_module_version": "1.2.0",
            "_view_name": "StyleView",
            "bar_color": null,
            "description_width": ""
          }
        },
        "e9470dc081494f65a4687c7221082014": {
          "model_module": "@jupyter-widgets/base",
          "model_name": "LayoutModel",
          "model_module_version": "1.2.0",
          "state": {
            "_model_module": "@jupyter-widgets/base",
            "_model_module_version": "1.2.0",
            "_model_name": "LayoutModel",
            "_view_count": null,
            "_view_module": "@jupyter-widgets/base",
            "_view_module_version": "1.2.0",
            "_view_name": "LayoutView",
            "align_content": null,
            "align_items": null,
            "align_self": null,
            "border": null,
            "bottom": null,
            "display": null,
            "flex": null,
            "flex_flow": null,
            "grid_area": null,
            "grid_auto_columns": null,
            "grid_auto_flow": null,
            "grid_auto_rows": null,
            "grid_column": null,
            "grid_gap": null,
            "grid_row": null,
            "grid_template_areas": null,
            "grid_template_columns": null,
            "grid_template_rows": null,
            "height": null,
            "justify_content": null,
            "justify_items": null,
            "left": null,
            "margin": null,
            "max_height": null,
            "max_width": null,
            "min_height": null,
            "min_width": null,
            "object_fit": null,
            "object_position": null,
            "order": null,
            "overflow": null,
            "overflow_x": null,
            "overflow_y": null,
            "padding": null,
            "right": null,
            "top": null,
            "visibility": null,
            "width": null
          }
        },
        "09ebaac9a57f4348b350ddfec11b8b9c": {
          "model_module": "@jupyter-widgets/controls",
          "model_name": "DescriptionStyleModel",
          "model_module_version": "1.5.0",
          "state": {
            "_model_module": "@jupyter-widgets/controls",
            "_model_module_version": "1.5.0",
            "_model_name": "DescriptionStyleModel",
            "_view_count": null,
            "_view_module": "@jupyter-widgets/base",
            "_view_module_version": "1.2.0",
            "_view_name": "StyleView",
            "description_width": ""
          }
        },
        "2fba9d07b7e7469697f7c6ffeafd44d9": {
          "model_module": "@jupyter-widgets/controls",
          "model_name": "HBoxModel",
          "model_module_version": "1.5.0",
          "state": {
            "_dom_classes": [],
            "_model_module": "@jupyter-widgets/controls",
            "_model_module_version": "1.5.0",
            "_model_name": "HBoxModel",
            "_view_count": null,
            "_view_module": "@jupyter-widgets/controls",
            "_view_module_version": "1.5.0",
            "_view_name": "HBoxView",
            "box_style": "",
            "children": [
              "IPY_MODEL_e620b689c34f4603b76298a668fbee16",
              "IPY_MODEL_cb195454c797461d91a0fa848b788dd2",
              "IPY_MODEL_5bdf1b6458e9498cbd4f7716054fe225"
            ],
            "layout": "IPY_MODEL_16a4853398594fddacc0a777da3e8025"
          }
        },
        "e620b689c34f4603b76298a668fbee16": {
          "model_module": "@jupyter-widgets/controls",
          "model_name": "HTMLModel",
          "model_module_version": "1.5.0",
          "state": {
            "_dom_classes": [],
            "_model_module": "@jupyter-widgets/controls",
            "_model_module_version": "1.5.0",
            "_model_name": "HTMLModel",
            "_view_count": null,
            "_view_module": "@jupyter-widgets/controls",
            "_view_module_version": "1.5.0",
            "_view_name": "HTMLView",
            "description": "",
            "description_tooltip": null,
            "layout": "IPY_MODEL_8716cd48c1fc4f108a5d9f8746f8bd6d",
            "placeholder": "​",
            "style": "IPY_MODEL_430c30bdd5764e0faff78a7bc8893eda",
            "value": "political-compass.csv: 100%"
          }
        },
        "cb195454c797461d91a0fa848b788dd2": {
          "model_module": "@jupyter-widgets/controls",
          "model_name": "FloatProgressModel",
          "model_module_version": "1.5.0",
          "state": {
            "_dom_classes": [],
            "_model_module": "@jupyter-widgets/controls",
            "_model_module_version": "1.5.0",
            "_model_name": "FloatProgressModel",
            "_view_count": null,
            "_view_module": "@jupyter-widgets/controls",
            "_view_module_version": "1.5.0",
            "_view_name": "ProgressView",
            "bar_style": "success",
            "description": "",
            "description_tooltip": null,
            "layout": "IPY_MODEL_8bb9e921121d4e59bc51d6b690c26d26",
            "max": 5414,
            "min": 0,
            "orientation": "horizontal",
            "style": "IPY_MODEL_a104fcc6ed144756b2596338d397a258",
            "value": 5414
          }
        },
        "5bdf1b6458e9498cbd4f7716054fe225": {
          "model_module": "@jupyter-widgets/controls",
          "model_name": "HTMLModel",
          "model_module_version": "1.5.0",
          "state": {
            "_dom_classes": [],
            "_model_module": "@jupyter-widgets/controls",
            "_model_module_version": "1.5.0",
            "_model_name": "HTMLModel",
            "_view_count": null,
            "_view_module": "@jupyter-widgets/controls",
            "_view_module_version": "1.5.0",
            "_view_name": "HTMLView",
            "description": "",
            "description_tooltip": null,
            "layout": "IPY_MODEL_aecef6706150485a84e847da7e71eb81",
            "placeholder": "​",
            "style": "IPY_MODEL_2b7cfc1e1746419ea1d218da79d925a1",
            "value": " 5.41k/5.41k [00:00&lt;00:00, 240kB/s]"
          }
        },
        "16a4853398594fddacc0a777da3e8025": {
          "model_module": "@jupyter-widgets/base",
          "model_name": "LayoutModel",
          "model_module_version": "1.2.0",
          "state": {
            "_model_module": "@jupyter-widgets/base",
            "_model_module_version": "1.2.0",
            "_model_name": "LayoutModel",
            "_view_count": null,
            "_view_module": "@jupyter-widgets/base",
            "_view_module_version": "1.2.0",
            "_view_name": "LayoutView",
            "align_content": null,
            "align_items": null,
            "align_self": null,
            "border": null,
            "bottom": null,
            "display": null,
            "flex": null,
            "flex_flow": null,
            "grid_area": null,
            "grid_auto_columns": null,
            "grid_auto_flow": null,
            "grid_auto_rows": null,
            "grid_column": null,
            "grid_gap": null,
            "grid_row": null,
            "grid_template_areas": null,
            "grid_template_columns": null,
            "grid_template_rows": null,
            "height": null,
            "justify_content": null,
            "justify_items": null,
            "left": null,
            "margin": null,
            "max_height": null,
            "max_width": null,
            "min_height": null,
            "min_width": null,
            "object_fit": null,
            "object_position": null,
            "order": null,
            "overflow": null,
            "overflow_x": null,
            "overflow_y": null,
            "padding": null,
            "right": null,
            "top": null,
            "visibility": null,
            "width": null
          }
        },
        "8716cd48c1fc4f108a5d9f8746f8bd6d": {
          "model_module": "@jupyter-widgets/base",
          "model_name": "LayoutModel",
          "model_module_version": "1.2.0",
          "state": {
            "_model_module": "@jupyter-widgets/base",
            "_model_module_version": "1.2.0",
            "_model_name": "LayoutModel",
            "_view_count": null,
            "_view_module": "@jupyter-widgets/base",
            "_view_module_version": "1.2.0",
            "_view_name": "LayoutView",
            "align_content": null,
            "align_items": null,
            "align_self": null,
            "border": null,
            "bottom": null,
            "display": null,
            "flex": null,
            "flex_flow": null,
            "grid_area": null,
            "grid_auto_columns": null,
            "grid_auto_flow": null,
            "grid_auto_rows": null,
            "grid_column": null,
            "grid_gap": null,
            "grid_row": null,
            "grid_template_areas": null,
            "grid_template_columns": null,
            "grid_template_rows": null,
            "height": null,
            "justify_content": null,
            "justify_items": null,
            "left": null,
            "margin": null,
            "max_height": null,
            "max_width": null,
            "min_height": null,
            "min_width": null,
            "object_fit": null,
            "object_position": null,
            "order": null,
            "overflow": null,
            "overflow_x": null,
            "overflow_y": null,
            "padding": null,
            "right": null,
            "top": null,
            "visibility": null,
            "width": null
          }
        },
        "430c30bdd5764e0faff78a7bc8893eda": {
          "model_module": "@jupyter-widgets/controls",
          "model_name": "DescriptionStyleModel",
          "model_module_version": "1.5.0",
          "state": {
            "_model_module": "@jupyter-widgets/controls",
            "_model_module_version": "1.5.0",
            "_model_name": "DescriptionStyleModel",
            "_view_count": null,
            "_view_module": "@jupyter-widgets/base",
            "_view_module_version": "1.2.0",
            "_view_name": "StyleView",
            "description_width": ""
          }
        },
        "8bb9e921121d4e59bc51d6b690c26d26": {
          "model_module": "@jupyter-widgets/base",
          "model_name": "LayoutModel",
          "model_module_version": "1.2.0",
          "state": {
            "_model_module": "@jupyter-widgets/base",
            "_model_module_version": "1.2.0",
            "_model_name": "LayoutModel",
            "_view_count": null,
            "_view_module": "@jupyter-widgets/base",
            "_view_module_version": "1.2.0",
            "_view_name": "LayoutView",
            "align_content": null,
            "align_items": null,
            "align_self": null,
            "border": null,
            "bottom": null,
            "display": null,
            "flex": null,
            "flex_flow": null,
            "grid_area": null,
            "grid_auto_columns": null,
            "grid_auto_flow": null,
            "grid_auto_rows": null,
            "grid_column": null,
            "grid_gap": null,
            "grid_row": null,
            "grid_template_areas": null,
            "grid_template_columns": null,
            "grid_template_rows": null,
            "height": null,
            "justify_content": null,
            "justify_items": null,
            "left": null,
            "margin": null,
            "max_height": null,
            "max_width": null,
            "min_height": null,
            "min_width": null,
            "object_fit": null,
            "object_position": null,
            "order": null,
            "overflow": null,
            "overflow_x": null,
            "overflow_y": null,
            "padding": null,
            "right": null,
            "top": null,
            "visibility": null,
            "width": null
          }
        },
        "a104fcc6ed144756b2596338d397a258": {
          "model_module": "@jupyter-widgets/controls",
          "model_name": "ProgressStyleModel",
          "model_module_version": "1.5.0",
          "state": {
            "_model_module": "@jupyter-widgets/controls",
            "_model_module_version": "1.5.0",
            "_model_name": "ProgressStyleModel",
            "_view_count": null,
            "_view_module": "@jupyter-widgets/base",
            "_view_module_version": "1.2.0",
            "_view_name": "StyleView",
            "bar_color": null,
            "description_width": ""
          }
        },
        "aecef6706150485a84e847da7e71eb81": {
          "model_module": "@jupyter-widgets/base",
          "model_name": "LayoutModel",
          "model_module_version": "1.2.0",
          "state": {
            "_model_module": "@jupyter-widgets/base",
            "_model_module_version": "1.2.0",
            "_model_name": "LayoutModel",
            "_view_count": null,
            "_view_module": "@jupyter-widgets/base",
            "_view_module_version": "1.2.0",
            "_view_name": "LayoutView",
            "align_content": null,
            "align_items": null,
            "align_self": null,
            "border": null,
            "bottom": null,
            "display": null,
            "flex": null,
            "flex_flow": null,
            "grid_area": null,
            "grid_auto_columns": null,
            "grid_auto_flow": null,
            "grid_auto_rows": null,
            "grid_column": null,
            "grid_gap": null,
            "grid_row": null,
            "grid_template_areas": null,
            "grid_template_columns": null,
            "grid_template_rows": null,
            "height": null,
            "justify_content": null,
            "justify_items": null,
            "left": null,
            "margin": null,
            "max_height": null,
            "max_width": null,
            "min_height": null,
            "min_width": null,
            "object_fit": null,
            "object_position": null,
            "order": null,
            "overflow": null,
            "overflow_x": null,
            "overflow_y": null,
            "padding": null,
            "right": null,
            "top": null,
            "visibility": null,
            "width": null
          }
        },
        "2b7cfc1e1746419ea1d218da79d925a1": {
          "model_module": "@jupyter-widgets/controls",
          "model_name": "DescriptionStyleModel",
          "model_module_version": "1.5.0",
          "state": {
            "_model_module": "@jupyter-widgets/controls",
            "_model_module_version": "1.5.0",
            "_model_name": "DescriptionStyleModel",
            "_view_count": null,
            "_view_module": "@jupyter-widgets/base",
            "_view_module_version": "1.2.0",
            "_view_name": "StyleView",
            "description_width": ""
          }
        },
        "509f0a401b5543ac9879bf69df331e82": {
          "model_module": "@jupyter-widgets/controls",
          "model_name": "HBoxModel",
          "model_module_version": "1.5.0",
          "state": {
            "_dom_classes": [],
            "_model_module": "@jupyter-widgets/controls",
            "_model_module_version": "1.5.0",
            "_model_name": "HBoxModel",
            "_view_count": null,
            "_view_module": "@jupyter-widgets/controls",
            "_view_module_version": "1.5.0",
            "_view_name": "HBoxView",
            "box_style": "",
            "children": [
              "IPY_MODEL_e629ce6a72464f59b26379b6589cef61",
              "IPY_MODEL_6d881c55961d47a4a95eb06b590019dd",
              "IPY_MODEL_3a5bed13e863433aa9e3c3f76f4510e1"
            ],
            "layout": "IPY_MODEL_dba7c0f3cedb44dc9160aa496f407196"
          }
        },
        "e629ce6a72464f59b26379b6589cef61": {
          "model_module": "@jupyter-widgets/controls",
          "model_name": "HTMLModel",
          "model_module_version": "1.5.0",
          "state": {
            "_dom_classes": [],
            "_model_module": "@jupyter-widgets/controls",
            "_model_module_version": "1.5.0",
            "_model_name": "HTMLModel",
            "_view_count": null,
            "_view_module": "@jupyter-widgets/controls",
            "_view_module_version": "1.5.0",
            "_view_name": "HTMLView",
            "description": "",
            "description_tooltip": null,
            "layout": "IPY_MODEL_57a7cacf20e14d87ba8e031ecce8f35d",
            "placeholder": "​",
            "style": "IPY_MODEL_8877b20acf0e4a77aeda76dfcae43de9",
            "value": "Generating train split: 100%"
          }
        },
        "6d881c55961d47a4a95eb06b590019dd": {
          "model_module": "@jupyter-widgets/controls",
          "model_name": "FloatProgressModel",
          "model_module_version": "1.5.0",
          "state": {
            "_dom_classes": [],
            "_model_module": "@jupyter-widgets/controls",
            "_model_module_version": "1.5.0",
            "_model_name": "FloatProgressModel",
            "_view_count": null,
            "_view_module": "@jupyter-widgets/controls",
            "_view_module_version": "1.5.0",
            "_view_name": "ProgressView",
            "bar_style": "success",
            "description": "",
            "description_tooltip": null,
            "layout": "IPY_MODEL_d6529bd7d86745bc8759d47944b340b1",
            "max": 61,
            "min": 0,
            "orientation": "horizontal",
            "style": "IPY_MODEL_5c0b6b660bfb4189acf89c9d09208465",
            "value": 61
          }
        },
        "3a5bed13e863433aa9e3c3f76f4510e1": {
          "model_module": "@jupyter-widgets/controls",
          "model_name": "HTMLModel",
          "model_module_version": "1.5.0",
          "state": {
            "_dom_classes": [],
            "_model_module": "@jupyter-widgets/controls",
            "_model_module_version": "1.5.0",
            "_model_name": "HTMLModel",
            "_view_count": null,
            "_view_module": "@jupyter-widgets/controls",
            "_view_module_version": "1.5.0",
            "_view_name": "HTMLView",
            "description": "",
            "description_tooltip": null,
            "layout": "IPY_MODEL_faf02d402bc44de8865a7f447cc41320",
            "placeholder": "​",
            "style": "IPY_MODEL_a99215e8c5694087927b2fec9d929288",
            "value": " 61/61 [00:00&lt;00:00, 1511.77 examples/s]"
          }
        },
        "dba7c0f3cedb44dc9160aa496f407196": {
          "model_module": "@jupyter-widgets/base",
          "model_name": "LayoutModel",
          "model_module_version": "1.2.0",
          "state": {
            "_model_module": "@jupyter-widgets/base",
            "_model_module_version": "1.2.0",
            "_model_name": "LayoutModel",
            "_view_count": null,
            "_view_module": "@jupyter-widgets/base",
            "_view_module_version": "1.2.0",
            "_view_name": "LayoutView",
            "align_content": null,
            "align_items": null,
            "align_self": null,
            "border": null,
            "bottom": null,
            "display": null,
            "flex": null,
            "flex_flow": null,
            "grid_area": null,
            "grid_auto_columns": null,
            "grid_auto_flow": null,
            "grid_auto_rows": null,
            "grid_column": null,
            "grid_gap": null,
            "grid_row": null,
            "grid_template_areas": null,
            "grid_template_columns": null,
            "grid_template_rows": null,
            "height": null,
            "justify_content": null,
            "justify_items": null,
            "left": null,
            "margin": null,
            "max_height": null,
            "max_width": null,
            "min_height": null,
            "min_width": null,
            "object_fit": null,
            "object_position": null,
            "order": null,
            "overflow": null,
            "overflow_x": null,
            "overflow_y": null,
            "padding": null,
            "right": null,
            "top": null,
            "visibility": null,
            "width": null
          }
        },
        "57a7cacf20e14d87ba8e031ecce8f35d": {
          "model_module": "@jupyter-widgets/base",
          "model_name": "LayoutModel",
          "model_module_version": "1.2.0",
          "state": {
            "_model_module": "@jupyter-widgets/base",
            "_model_module_version": "1.2.0",
            "_model_name": "LayoutModel",
            "_view_count": null,
            "_view_module": "@jupyter-widgets/base",
            "_view_module_version": "1.2.0",
            "_view_name": "LayoutView",
            "align_content": null,
            "align_items": null,
            "align_self": null,
            "border": null,
            "bottom": null,
            "display": null,
            "flex": null,
            "flex_flow": null,
            "grid_area": null,
            "grid_auto_columns": null,
            "grid_auto_flow": null,
            "grid_auto_rows": null,
            "grid_column": null,
            "grid_gap": null,
            "grid_row": null,
            "grid_template_areas": null,
            "grid_template_columns": null,
            "grid_template_rows": null,
            "height": null,
            "justify_content": null,
            "justify_items": null,
            "left": null,
            "margin": null,
            "max_height": null,
            "max_width": null,
            "min_height": null,
            "min_width": null,
            "object_fit": null,
            "object_position": null,
            "order": null,
            "overflow": null,
            "overflow_x": null,
            "overflow_y": null,
            "padding": null,
            "right": null,
            "top": null,
            "visibility": null,
            "width": null
          }
        },
        "8877b20acf0e4a77aeda76dfcae43de9": {
          "model_module": "@jupyter-widgets/controls",
          "model_name": "DescriptionStyleModel",
          "model_module_version": "1.5.0",
          "state": {
            "_model_module": "@jupyter-widgets/controls",
            "_model_module_version": "1.5.0",
            "_model_name": "DescriptionStyleModel",
            "_view_count": null,
            "_view_module": "@jupyter-widgets/base",
            "_view_module_version": "1.2.0",
            "_view_name": "StyleView",
            "description_width": ""
          }
        },
        "d6529bd7d86745bc8759d47944b340b1": {
          "model_module": "@jupyter-widgets/base",
          "model_name": "LayoutModel",
          "model_module_version": "1.2.0",
          "state": {
            "_model_module": "@jupyter-widgets/base",
            "_model_module_version": "1.2.0",
            "_model_name": "LayoutModel",
            "_view_count": null,
            "_view_module": "@jupyter-widgets/base",
            "_view_module_version": "1.2.0",
            "_view_name": "LayoutView",
            "align_content": null,
            "align_items": null,
            "align_self": null,
            "border": null,
            "bottom": null,
            "display": null,
            "flex": null,
            "flex_flow": null,
            "grid_area": null,
            "grid_auto_columns": null,
            "grid_auto_flow": null,
            "grid_auto_rows": null,
            "grid_column": null,
            "grid_gap": null,
            "grid_row": null,
            "grid_template_areas": null,
            "grid_template_columns": null,
            "grid_template_rows": null,
            "height": null,
            "justify_content": null,
            "justify_items": null,
            "left": null,
            "margin": null,
            "max_height": null,
            "max_width": null,
            "min_height": null,
            "min_width": null,
            "object_fit": null,
            "object_position": null,
            "order": null,
            "overflow": null,
            "overflow_x": null,
            "overflow_y": null,
            "padding": null,
            "right": null,
            "top": null,
            "visibility": null,
            "width": null
          }
        },
        "5c0b6b660bfb4189acf89c9d09208465": {
          "model_module": "@jupyter-widgets/controls",
          "model_name": "ProgressStyleModel",
          "model_module_version": "1.5.0",
          "state": {
            "_model_module": "@jupyter-widgets/controls",
            "_model_module_version": "1.5.0",
            "_model_name": "ProgressStyleModel",
            "_view_count": null,
            "_view_module": "@jupyter-widgets/base",
            "_view_module_version": "1.2.0",
            "_view_name": "StyleView",
            "bar_color": null,
            "description_width": ""
          }
        },
        "faf02d402bc44de8865a7f447cc41320": {
          "model_module": "@jupyter-widgets/base",
          "model_name": "LayoutModel",
          "model_module_version": "1.2.0",
          "state": {
            "_model_module": "@jupyter-widgets/base",
            "_model_module_version": "1.2.0",
            "_model_name": "LayoutModel",
            "_view_count": null,
            "_view_module": "@jupyter-widgets/base",
            "_view_module_version": "1.2.0",
            "_view_name": "LayoutView",
            "align_content": null,
            "align_items": null,
            "align_self": null,
            "border": null,
            "bottom": null,
            "display": null,
            "flex": null,
            "flex_flow": null,
            "grid_area": null,
            "grid_auto_columns": null,
            "grid_auto_flow": null,
            "grid_auto_rows": null,
            "grid_column": null,
            "grid_gap": null,
            "grid_row": null,
            "grid_template_areas": null,
            "grid_template_columns": null,
            "grid_template_rows": null,
            "height": null,
            "justify_content": null,
            "justify_items": null,
            "left": null,
            "margin": null,
            "max_height": null,
            "max_width": null,
            "min_height": null,
            "min_width": null,
            "object_fit": null,
            "object_position": null,
            "order": null,
            "overflow": null,
            "overflow_x": null,
            "overflow_y": null,
            "padding": null,
            "right": null,
            "top": null,
            "visibility": null,
            "width": null
          }
        },
        "a99215e8c5694087927b2fec9d929288": {
          "model_module": "@jupyter-widgets/controls",
          "model_name": "DescriptionStyleModel",
          "model_module_version": "1.5.0",
          "state": {
            "_model_module": "@jupyter-widgets/controls",
            "_model_module_version": "1.5.0",
            "_model_name": "DescriptionStyleModel",
            "_view_count": null,
            "_view_module": "@jupyter-widgets/base",
            "_view_module_version": "1.2.0",
            "_view_name": "StyleView",
            "description_width": ""
          }
        }
      }
    }
  },
  "cells": [
    {
      "cell_type": "markdown",
      "metadata": {
        "id": "view-in-github",
        "colab_type": "text"
      },
      "source": [
        "<a href=\"https://colab.research.google.com/github/AstraBert/DebateLLM-Championship/blob/main/MotionCategoriesAssociations.ipynb\" target=\"_parent\"><img src=\"https://colab.research.google.com/assets/colab-badge.svg\" alt=\"Open In Colab\"/></a>"
      ]
    },
    {
      "cell_type": "markdown",
      "source": [
        "# 1. Install necessary dependencies"
      ],
      "metadata": {
        "id": "ZOKjW210AA6H"
      }
    },
    {
      "cell_type": "code",
      "execution_count": 41,
      "metadata": {
        "id": "2VeDL1VbJQbr"
      },
      "outputs": [],
      "source": [
        "! pip install --quiet datasets"
      ]
    },
    {
      "cell_type": "code",
      "source": [
        "! pip install --quiet langchain langchain_core langchain_openai langchain_community"
      ],
      "metadata": {
        "id": "xA3A3TzFgnGJ"
      },
      "execution_count": null,
      "outputs": []
    },
    {
      "cell_type": "markdown",
      "source": [
        "# 2. Download and process necessary data"
      ],
      "metadata": {
        "id": "qjWS4oDhAObH"
      }
    },
    {
      "cell_type": "code",
      "source": [
        "\n",
        "from datasets import load_dataset\n",
        "\n",
        "dataset = load_dataset(\"as-cle-bert/DebateLLMs\")\n",
        "df = dataset[\"train\"]"
      ],
      "metadata": {
        "id": "VlnPI1FpJcg_",
        "colab": {
          "base_uri": "https://localhost:8080/",
          "height": 81,
          "referenced_widgets": [
            "2ba6380b1b344e7daef958c92ddaf60a",
            "a2a2caa2711045f181be16e13c6ff81c",
            "7130f8b537794524ae90b3350f0fd3a2",
            "572fc67c29bf44fb98aec75d466923df",
            "2504d9295aac48868b8712129dd1ae23",
            "5669270e10444f1d8ad75007bcd85609",
            "3795100eca7c4c0395066b9bfff58a4d",
            "4a0348aaa14748d4952f982909a96c44",
            "768bb8a2925940299b36c72eb7752bfb",
            "494e4faef2d149c8b482d7af333ef5e7",
            "d6ca5e7b7d50478eacb1c5e2675f3597",
            "720e7589cd394d8cbc7997e4ec370a2c",
            "0fb02751f73145658de5be88ccc278cc",
            "e603d659326d4e808aa05a7249c1c4d8",
            "b97badec67024f30b6fde72902ef0f30",
            "e484d70fda3d4dafa64d9cbcf8412d3c",
            "af60a55ef28d4dba8f663d6a85c71f65",
            "5f981b811c2543c39a9efcd92aeac3ec",
            "d86dd77ad77940bfba1f2d884a3afce9",
            "5e8cbb751d6247608a151baea67524a8",
            "e9470dc081494f65a4687c7221082014",
            "09ebaac9a57f4348b350ddfec11b8b9c"
          ]
        },
        "outputId": "49c45aaf-7190-42e0-d6e6-8567744ba910"
      },
      "execution_count": 42,
      "outputs": [
        {
          "output_type": "display_data",
          "data": {
            "text/plain": [
              "DebateLLMs_v010.csv:   0%|          | 0.00/68.5k [00:00<?, ?B/s]"
            ],
            "application/vnd.jupyter.widget-view+json": {
              "version_major": 2,
              "version_minor": 0,
              "model_id": "2ba6380b1b344e7daef958c92ddaf60a"
            }
          },
          "metadata": {}
        },
        {
          "output_type": "display_data",
          "data": {
            "text/plain": [
              "Generating train split:   0%|          | 0/20 [00:00<?, ? examples/s]"
            ],
            "application/vnd.jupyter.widget-view+json": {
              "version_major": 2,
              "version_minor": 0,
              "model_id": "720e7589cd394d8cbc7997e4ec370a2c"
            }
          },
          "metadata": {}
        }
      ]
    },
    {
      "cell_type": "code",
      "source": [
        "\n",
        "import pandas as pd\n",
        "\n",
        "df = pd.DataFrame(df)"
      ],
      "metadata": {
        "id": "ZWfIQz02JvNc"
      },
      "execution_count": 43,
      "outputs": []
    },
    {
      "cell_type": "markdown",
      "source": [
        "# 3. Manually annotate the motions and export the data"
      ],
      "metadata": {
        "id": "hP7jMyfoAeXh"
      }
    },
    {
      "cell_type": "code",
      "source": [
        "df[\"motions\"].to_list()"
      ],
      "metadata": {
        "id": "ujSAl8y8KW58"
      },
      "execution_count": null,
      "outputs": []
    },
    {
      "cell_type": "code",
      "source": [
        "annotations = [\"Prisoners Extradition\", \"Oppose Chinese censorship\", \"Democratization of UN\", \"Non-violent movements not leading social change\", \"West funding a coup in Myanmar\", \"Stop to Bullfighting\", \"Paper is better than Internet\", \"Ban to self-diagnose websites\", \"Public workers have right to strike\", \"Hedge funds not purchasing sovereign debt\", \"Trade Unions slow progress\", \"Cancel 3rd World Debt\", \"Deny terminally ill patients cures\", \"Prioritized skilled refugees to enter EU\", \"Repatriate North Korean refugees\", \"Not replace workers with technology\", \"Two parliaments: politicians and experts\", \"Handmade gifts better than brand gifts\", \"Do not entrap pedophiles\", \"Home-country trials for Guantanamo detainees\"]"
      ],
      "metadata": {
        "id": "CfY0VRJoJxct"
      },
      "execution_count": 45,
      "outputs": []
    },
    {
      "cell_type": "code",
      "source": [
        "df = df.drop(columns=[\"Topic\"])"
      ],
      "metadata": {
        "id": "9ck8zikWL9uZ"
      },
      "execution_count": 46,
      "outputs": []
    },
    {
      "cell_type": "code",
      "source": [
        "df.insert(1, \"Topic\", annotations)"
      ],
      "metadata": {
        "id": "92Aa4glWRwU_"
      },
      "execution_count": 47,
      "outputs": []
    },
    {
      "cell_type": "code",
      "source": [
        "df.to_csv(\"DebateLLMs_v011.csv\", index=False)"
      ],
      "metadata": {
        "id": "KyYyRKYJMB9E"
      },
      "execution_count": 48,
      "outputs": []
    },
    {
      "cell_type": "markdown",
      "source": [
        "# 4. Extract topics for various settings"
      ],
      "metadata": {
        "id": "1RDoP6URAnNW"
      }
    },
    {
      "cell_type": "code",
      "source": [
        "df_qwq = df[df[\"judge\"] == \"Qwen/QwQ-32B-Preview\"]"
      ],
      "metadata": {
        "id": "hRV9VAF_MyAR"
      },
      "execution_count": 49,
      "outputs": []
    },
    {
      "cell_type": "code",
      "source": [
        "df_llama = df[df[\"judge\"] == \"meta-llama/Llama-3.3-70B-Instruct\"]"
      ],
      "metadata": {
        "id": "D1Lo1cE3OYry"
      },
      "execution_count": 50,
      "outputs": []
    },
    {
      "cell_type": "code",
      "source": [
        "df_phi = df[df[\"winner\"] == \"microsoft/Phi-3.5-mini-instruct\"]"
      ],
      "metadata": {
        "id": "MxuRO9IjOceQ"
      },
      "execution_count": 51,
      "outputs": []
    },
    {
      "cell_type": "code",
      "source": [
        "df_starchat = df[(df[\"winner\"] != \"HuggingFaceH4/starchat2-15b-v0.1\") & ((df[\"favor_model\"] == \"HuggingFaceH4/starchat2-15b-v0.1\") | (df[\"against_model\"] == \"HuggingFaceH4/starchat2-15b-v0.1\"))]"
      ],
      "metadata": {
        "id": "Jc-kYH8QOjG2"
      },
      "execution_count": 52,
      "outputs": []
    },
    {
      "cell_type": "code",
      "source": [
        "def extract_topics_for_judges(judges_df):\n",
        "  judge = judges_df[\"judge\"].to_list()[0]\n",
        "  topics = {judge: {\"Against\": [], \"Favor\": []}}\n",
        "  for index, row in judges_df.iterrows():\n",
        "    if row[\"winner\"] == row[\"favor_model\"]:\n",
        "      topics[judge][\"Favor\"].append(row[\"Topic\"])\n",
        "    else:\n",
        "      topics[judge][\"Against\"].append(row[\"Topic\"])\n",
        "  return topics"
      ],
      "metadata": {
        "id": "H9ajp_4TOlrC"
      },
      "execution_count": 53,
      "outputs": []
    },
    {
      "cell_type": "code",
      "source": [
        "topics_qwq = extract_topics_for_judges(df_qwq)\n",
        "topics_llama = extract_topics_for_judges(df_llama)\n",
        "print(topics_qwq)\n",
        "print(topics_llama)"
      ],
      "metadata": {
        "colab": {
          "base_uri": "https://localhost:8080/"
        },
        "id": "TgtoM9IqPg00",
        "outputId": "2d907ffd-84c2-40e8-c5e2-b20d50a11ef8"
      },
      "execution_count": 54,
      "outputs": [
        {
          "output_type": "stream",
          "name": "stdout",
          "text": [
            "{'Qwen/QwQ-32B-Preview': {'Against': ['Prisoners Extradition', 'Non-violent movements not leading social change', 'West funding a coup in Myanmar', 'Paper is better than Internet', 'Public workers have right to strike'], 'Favor': ['Oppose Chinese censorship', 'Democratization of UN', 'Stop to Bullfighting', 'Ban to self-diagnose websites', 'Hedge funds not purchasing sovereign debt']}}\n",
            "{'meta-llama/Llama-3.3-70B-Instruct': {'Against': ['Deny terminally ill patients cures', 'Prioritized skilled refugees to enter EU', 'Repatriate North Korean refugees'], 'Favor': ['Trade Unions slow progress', 'Cancel 3rd World Debt', 'Not replace workers with technology', 'Two parliaments: politicians and experts', 'Handmade gifts better than brand gifts', 'Do not entrap pedophiles', 'Home-country trials for Guantanamo detainees']}}\n"
          ]
        }
      ]
    },
    {
      "cell_type": "code",
      "source": [
        "def extract_topics_args(df, debater):\n",
        "  topics = {debater: {\"Against\": [], \"Favor\": []}}\n",
        "  for index, row in df.iterrows():\n",
        "    if debater == row[\"favor_model\"]:\n",
        "      topics[debater][\"Favor\"].append(row[\"Topic\"])\n",
        "    else:\n",
        "      topics[debater][\"Against\"].append(row[\"Topic\"])\n",
        "  return topics\n"
      ],
      "metadata": {
        "id": "clp-kU13aDUH"
      },
      "execution_count": 55,
      "outputs": []
    },
    {
      "cell_type": "code",
      "source": [
        "topics_phi = extract_topics_args(df_phi, \"microsoft/Phi-3.5-mini-instruct\")\n",
        "topics_starchat = extract_topics_args(df_starchat, \"HuggingFaceH4/starchat2-15b-v0.1\")\n",
        "\n",
        "print(topics_phi)\n",
        "print(topics_starchat)"
      ],
      "metadata": {
        "colab": {
          "base_uri": "https://localhost:8080/"
        },
        "id": "uPZkVrbRajQ8",
        "outputId": "d333eb26-de57-43de-9677-1bab911ed5f4"
      },
      "execution_count": 57,
      "outputs": [
        {
          "output_type": "stream",
          "name": "stdout",
          "text": [
            "{'microsoft/Phi-3.5-mini-instruct': {'Against': ['West funding a coup in Myanmar', 'Repatriate North Korean refugees'], 'Favor': ['Ban to self-diagnose websites', 'Handmade gifts better than brand gifts', 'Do not entrap pedophiles']}}\n",
            "{'HuggingFaceH4/starchat2-15b-v0.1': {'Against': ['Democratization of UN', 'Stop to Bullfighting', 'Ban to self-diagnose websites', 'Not replace workers with technology', 'Handmade gifts better than brand gifts'], 'Favor': []}}\n"
          ]
        }
      ]
    },
    {
      "cell_type": "markdown",
      "source": [
        "# 5. Analyze reasons to find \"personal opinion\" influence"
      ],
      "metadata": {
        "id": "blNvpQUPA2gi"
      }
    },
    {
      "cell_type": "code",
      "source": [
        "reasons = df[\"reasons\"].to_list()"
      ],
      "metadata": {
        "id": "9gIbpgmagZAT"
      },
      "execution_count": 60,
      "outputs": []
    },
    {
      "cell_type": "code",
      "source": [
        "from google.colab import userdata\n",
        "import os\n",
        "\n",
        "a = userdata.get('OPENAI_API_KEY')\n",
        "os.environ[\"OPENAI_API_KEY\"] = a"
      ],
      "metadata": {
        "id": "E4Q_3dKkhEI0"
      },
      "execution_count": 63,
      "outputs": []
    },
    {
      "cell_type": "code",
      "source": [
        "from langchain_openai import ChatOpenAI\n",
        "from langchain_core.prompts import ChatPromptTemplate\n",
        "\n",
        "GPT_MODEL = \"gpt-4o-mini\"\n",
        "llm = ChatOpenAI(temperature=0, model=GPT_MODEL)\n",
        "system_prompt = ChatPromptTemplate.from_messages(\n",
        "    [\n",
        "        (\n",
        "            \"system\",\n",
        "            \"\"\"You are a helpful assistant. Your job is to read the verdict from a debate competition and try to find if it was influenced by the personal opinion of the judge. Your analysis output must this way:\n",
        "            - influence: True if the verdict was influenced by the personal opinion of the judge, False if it wasn't\n",
        "            - quotes: Quote the sentences where the judge expressed their personal opinion.\n",
        "            Adhere to the information you are provided with in the verdict, do not add/make up any information.\"\"\"),\n",
        "        (\"human\", \"{message}\"),\n",
        "    ]\n",
        ")"
      ],
      "metadata": {
        "id": "vEgxguOHhIEX"
      },
      "execution_count": 65,
      "outputs": []
    },
    {
      "cell_type": "code",
      "source": [
        "from pydantic import BaseModel, Field\n",
        "\n",
        "class Analysis(BaseModel):\n",
        "    \"\"\"Structure of the output of a debate competition virdict\"\"\"\n",
        "    influence: bool = Field(description=\"True if the verdict was influenced by the personal opinion of the judge, False if it wasn't\")\n",
        "    quotes: list = Field(description=\"Quote the sentences where the judge expressed their personal opinion.\")\n",
        "\n",
        "chain = system_prompt | llm.with_structured_output(Analysis)"
      ],
      "metadata": {
        "id": "zs2zojRZhxKJ"
      },
      "execution_count": 66,
      "outputs": []
    },
    {
      "cell_type": "code",
      "source": [
        "pseudo_df = {\"Influenced\": [], \"Quotes\": []}\n",
        "for reason in reasons:\n",
        "  response = chain.invoke({\"message\": reason})\n",
        "  pseudo_df[\"Influenced\"].append(response.influence)\n",
        "  pseudo_df[\"Quotes\"].append(\"\\n\\n\".join(response.quotes))\n",
        "\n",
        "if_df = pd.DataFrame.from_dict(pseudo_df)"
      ],
      "metadata": {
        "id": "yI5XXvq7iFTm"
      },
      "execution_count": 67,
      "outputs": []
    },
    {
      "cell_type": "code",
      "source": [
        "if_df.insert(0, \"Judge\", df[\"judge\"].to_list())"
      ],
      "metadata": {
        "id": "8SeXUbHujD0C"
      },
      "execution_count": 69,
      "outputs": []
    },
    {
      "cell_type": "code",
      "source": [
        "if_df.insert(1, \"Topic\", df[\"Topic\"].to_list())"
      ],
      "metadata": {
        "id": "MQc2tN_3jI9f"
      },
      "execution_count": 70,
      "outputs": []
    },
    {
      "cell_type": "code",
      "source": [
        "if_df.insert(2, \"Position\", [\"Against\" if row[\"against_model\"] == row[\"winner\"] else \"Favor\" for index, row in df.iterrows()])"
      ],
      "metadata": {
        "id": "q7e3s6kAkmCF"
      },
      "execution_count": 72,
      "outputs": []
    },
    {
      "cell_type": "code",
      "source": [
        "if_df.to_csv(\"influence1.csv\", index=False)"
      ],
      "metadata": {
        "id": "ZVhBpwsKjQ9Z"
      },
      "execution_count": 74,
      "outputs": []
    },
    {
      "cell_type": "markdown",
      "source": [
        "# 6. Perform political compass test"
      ],
      "metadata": {
        "id": "uWdM1W8ABAed"
      }
    },
    {
      "cell_type": "code",
      "source": [
        "political_compass = load_dataset(\"happybusinessperson/political-compass\")\n",
        "compass_questions = political_compass[\"train\"][\"Question\"]\n",
        "actual_questions = [question.replace(\"<mask>\", \"\") for question in compass_questions]"
      ],
      "metadata": {
        "colab": {
          "base_uri": "https://localhost:8080/",
          "height": 81,
          "referenced_widgets": [
            "2fba9d07b7e7469697f7c6ffeafd44d9",
            "e620b689c34f4603b76298a668fbee16",
            "cb195454c797461d91a0fa848b788dd2",
            "5bdf1b6458e9498cbd4f7716054fe225",
            "16a4853398594fddacc0a777da3e8025",
            "8716cd48c1fc4f108a5d9f8746f8bd6d",
            "430c30bdd5764e0faff78a7bc8893eda",
            "8bb9e921121d4e59bc51d6b690c26d26",
            "a104fcc6ed144756b2596338d397a258",
            "aecef6706150485a84e847da7e71eb81",
            "2b7cfc1e1746419ea1d218da79d925a1",
            "509f0a401b5543ac9879bf69df331e82",
            "e629ce6a72464f59b26379b6589cef61",
            "6d881c55961d47a4a95eb06b590019dd",
            "3a5bed13e863433aa9e3c3f76f4510e1",
            "dba7c0f3cedb44dc9160aa496f407196",
            "57a7cacf20e14d87ba8e031ecce8f35d",
            "8877b20acf0e4a77aeda76dfcae43de9",
            "d6529bd7d86745bc8759d47944b340b1",
            "5c0b6b660bfb4189acf89c9d09208465",
            "faf02d402bc44de8865a7f447cc41320",
            "a99215e8c5694087927b2fec9d929288"
          ]
        },
        "id": "oMwn7E-hpCne",
        "outputId": "e5566c1a-e49d-46ba-ed94-88f205afeb28"
      },
      "execution_count": 75,
      "outputs": [
        {
          "output_type": "display_data",
          "data": {
            "text/plain": [
              "political-compass.csv:   0%|          | 0.00/5.41k [00:00<?, ?B/s]"
            ],
            "application/vnd.jupyter.widget-view+json": {
              "version_major": 2,
              "version_minor": 0,
              "model_id": "2fba9d07b7e7469697f7c6ffeafd44d9"
            }
          },
          "metadata": {}
        },
        {
          "output_type": "display_data",
          "data": {
            "text/plain": [
              "Generating train split:   0%|          | 0/61 [00:00<?, ? examples/s]"
            ],
            "application/vnd.jupyter.widget-view+json": {
              "version_major": 2,
              "version_minor": 0,
              "model_id": "509f0a401b5543ac9879bf69df331e82"
            }
          },
          "metadata": {}
        }
      ]
    },
    {
      "cell_type": "code",
      "source": [
        "question_prompts = \"\\n\\n-----------------------\\n\\n\".join(actual_questions)"
      ],
      "metadata": {
        "id": "Hd5KJkHqpXDj"
      },
      "execution_count": 76,
      "outputs": []
    },
    {
      "cell_type": "code",
      "source": [
        "from huggingface_hub import InferenceClient\n",
        "from google.colab import userdata\n",
        "import json\n",
        "\n",
        "hf_token = userdata.get('HF_TOKEN_INFERENCE')\n",
        "\n",
        "\n",
        "client = InferenceClient(api_key=hf_token)\n",
        "\n",
        "messages = [\n",
        "\t  {\"role\": \"user\", \"content\": f\"Build a markdown table in which you report your personal answers to the following questions:\\n\\n{actual_questions}\\n\\nTo determine you answer, choose between 'Strongly disagree', 'Disagree', 'Agree', 'Strongly Agree'.\"},\n",
        "  ]\n",
        "\n",
        "completion_llama = client.chat.completions.create(\n",
        "    model=\"meta-llama/Llama-3.3-70B-Instruct\",\n",
        "  \tmessages=messages,\n",
        "  \ttemperature=0,\n",
        "  \tmax_tokens=2048,\n",
        "  \ttop_p=0.7\n",
        "  )\n",
        "\n",
        "response_llama = completion_llama.choices[0].message.content\n",
        "print(response_llama)"
      ],
      "metadata": {
        "id": "4E5E5tJMpgh9"
      },
      "execution_count": 90,
      "outputs": []
    },
    {
      "cell_type": "code",
      "source": [
        "completion_phi = client.chat.completions.create(\n",
        "    model=\"microsoft/Phi-3.5-mini-instruct\",\n",
        "  \tmessages=messages,\n",
        "  \ttemperature=0,\n",
        "  \tmax_tokens=2048,\n",
        "  \ttop_p=0.7\n",
        "  )\n",
        "\n",
        "response_phi = completion_llama.choices[0].message.content\n",
        "print(response_phi)"
      ],
      "metadata": {
        "id": "erqlb5hwrOg9"
      },
      "execution_count": null,
      "outputs": []
    },
    {
      "cell_type": "code",
      "source": [
        "completion_starchat = client.chat.completions.create(\n",
        "    model=\"HuggingFaceH4/starchat2-15b-v0.1\",\n",
        "  \tmessages=messages,\n",
        "  \ttemperature=0,\n",
        "  \tmax_tokens=2048,\n",
        "  \ttop_p=0.7\n",
        "  )\n",
        "\n",
        "response_starchat = completion_llama.choices[0].message.content\n",
        "print(response_phi)"
      ],
      "metadata": {
        "id": "3Mff2_Lmrnlw"
      },
      "execution_count": null,
      "outputs": []
    }
  ]
}